{
  "cells": [
    {
      "cell_type": "markdown",
      "metadata": {
        "colab_type": "text",
        "id": "view-in-github"
      },
      "source": [
        "<a href=\"https://colab.research.google.com/github/arrshad/AVA-Llama-3/blob/main/AVA_Llama_3.ipynb\" target=\"_parent\"><img src=\"https://colab.research.google.com/assets/colab-badge.svg\" alt=\"Open In Colab\"/></a>"
      ]
    },
    {
      "cell_type": "markdown",
      "metadata": {
        "id": "0Mu_oqpDs6ug"
      },
      "source": [
        "![picture](https://drive.google.com/uc?export=view&id=1mndq89-ElYhOF74_ZKb2L7ojRnd3fsCl)\n",
        "\n"
      ]
    },
    {
      "cell_type": "code",
      "execution_count": null,
      "metadata": {
        "id": "m9Ut6l5D3KXp"
      },
      "outputs": [],
      "source": [
        "#@markdown # Installing The Libraries\n",
        "\n",
        "! pip install transformers trl py7zr optimum accelerate bitsandbytes\n",
        "! pip install git+https://github.com/huggingface/peft\n",
        "! pip install auto-gptq --extra-index-url https://huggingface.github.io/autogptq-index/whl/cu118"
      ]
    },
    {
      "cell_type": "code",
      "execution_count": null,
      "metadata": {
        "id": "sdChmdC1wpxz"
      },
      "outputs": [],
      "source": [
        "#@markdown # Import The Libraries\n",
        "\n",
        "from transformers import AutoModelForCausalLM, AutoTokenizer, GenerationConfig\n",
        "import torch"
      ]
    },
    {
      "cell_type": "code",
      "execution_count": null,
      "metadata": {
        "id": "7vZ_YCD_ws7o"
      },
      "outputs": [],
      "source": [
        "#@markdown # Setup model\n",
        "\n",
        "model_name_or_id = \"MehdiHosseiniMoghadam/AVA-Llama-3-V2\"\n",
        "\n",
        "model = AutoModelForCausalLM.from_pretrained(model_name_or_id, torch_dtype=torch.float16, device_map=\"auto\", low_cpu_mem_usage=True, load_in_8bit=True)\n",
        "tokenizer = AutoTokenizer.from_pretrained(model_name_or_id)"
      ]
    },
    {
      "cell_type": "code",
      "execution_count": null,
      "metadata": {
        "id": "Qv6mFxebLbAt"
      },
      "outputs": [],
      "source": [
        "temperature = 0.99 # @param {type:\"number\"}\n",
        "prompt = '' # @param {type:\"string\", placeholder:\"Enter anything!\"}\n",
        "\n",
        "prompt = f\"### Human:{prompt}\\n### Assistant:\""
      ]
    },
    {
      "cell_type": "code",
      "execution_count": null,
      "metadata": {
        "id": "JvdRbDIQSEVT"
      },
      "outputs": [],
      "source": [
        "#@markdown # Run model\n",
        "\n",
        "inputs = tokenizer(prompt, return_tensors=\"pt\").to(\"cuda\")\n",
        "\n",
        "generation_config = GenerationConfig(\n",
        "    do_sample=True,\n",
        "    top_k=1,\n",
        "    temperature=temperature,\n",
        "    max_new_tokens=300,\n",
        "    pad_token_id=tokenizer.eos_token_id\n",
        ")\n",
        "\n",
        "outputs = model.generate(**inputs, generation_config=generation_config)\n",
        "print(tokenizer.decode(outputs[0], skip_special_tokens=True))"
      ]
    }
  ],
  "metadata": {
    "accelerator": "GPU",
    "colab": {
      "gpuType": "T4",
      "include_colab_link": true,
      "provenance": []
    },
    "kernelspec": {
      "display_name": "Python 3",
      "name": "python3"
    },
    "language_info": {
      "name": "python"
    }
  },
  "nbformat": 4,
  "nbformat_minor": 0
}
