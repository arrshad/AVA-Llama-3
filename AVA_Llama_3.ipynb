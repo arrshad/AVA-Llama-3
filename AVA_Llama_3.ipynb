{
  "nbformat": 4,
  "nbformat_minor": 0,
  "metadata": {
    "colab": {
      "provenance": [],
      "gpuType": "T4",
      "include_colab_link": true
    },
    "kernelspec": {
      "name": "python3",
      "display_name": "Python 3"
    },
    "language_info": {
      "name": "python"
    },
    "accelerator": "GPU"
  },
  "cells": [
    {
      "cell_type": "markdown",
      "metadata": {
        "id": "view-in-github",
        "colab_type": "text"
      },
      "source": [
        "<a href=\"https://colab.research.google.com/github/arrshad/AVA-Llama-3/blob/main/AVA_Llama_3.ipynb\" target=\"_parent\"><img src=\"https://colab.research.google.com/assets/colab-badge.svg\" alt=\"Open In Colab\"/></a>"
      ]
    },
    {
      "cell_type": "markdown",
      "source": [
        "![picture](https://drive.google.com/uc?export=view&id=1mndq89-ElYhOF74_ZKb2L7ojRnd3fsCl)\n",
        "\n"
      ],
      "metadata": {
        "id": "0Mu_oqpDs6ug"
      }
    },
    {
      "cell_type": "code",
      "execution_count": null,
      "metadata": {
        "id": "m9Ut6l5D3KXp"
      },
      "outputs": [],
      "source": [
        "#@markdown # Installing The Libraries\n",
        "\n",
        "! pip install transformers trl py7zr optimum accelerate bitsandbytes\n",
        "! pip install git+https://github.com/huggingface/peft\n",
        "! pip install auto-gptq --extra-index-url https://huggingface.github.io/autogptq-index/whl/cu118"
      ]
    },
    {
      "cell_type": "code",
      "source": [
        "#@markdown # Import The Libraries\n",
        "\n",
        "from transformers import AutoModelForCausalLM, AutoTokenizer, GenerationConfig\n",
        "import torch"
      ],
      "metadata": {
        "id": "sdChmdC1wpxz"
      },
      "execution_count": null,
      "outputs": []
    },
    {
      "cell_type": "code",
      "source": [
        "#@markdown # Setup model\n",
        "\n",
        "model_name_or_id = \"MehdiHosseiniMoghadam/AVA-Llama-3-V2\"\n",
        "\n",
        "model = AutoModelForCausalLM.from_pretrained(model_name_or_id, torch_dtype=torch.float16, device_map=\"auto\", low_cpu_mem_usage=True, load_in_8bit=True)\n",
        "tokenizer = AutoTokenizer.from_pretrained(model_name_or_id)"
      ],
      "metadata": {
        "id": "7vZ_YCD_ws7o"
      },
      "execution_count": null,
      "outputs": []
    },
    {
      "cell_type": "code",
      "source": [
        "temperature = 0.99 # @param {type:\"number\"}\n",
        "prompt = '' # @param {type:\"string\", placeholder:\"Enter anything!\"}\n",
        "\n",
        "prompt = f\"### Human:{prompt}\\n### Assistant:\""
      ],
      "metadata": {
        "id": "Qv6mFxebLbAt"
      },
      "execution_count": null,
      "outputs": []
    },
    {
      "cell_type": "code",
      "source": [
        "#@markdown # Run model\n",
        "\n",
        "inputs = tokenizer(prompt, return_tensors=\"pt\").to(\"cuda\")\n",
        "\n",
        "generation_config = GenerationConfig(\n",
        "    do_sample=True,\n",
        "    top_k=1,\n",
        "    temperature=temperature,\n",
        "    max_new_tokens=300,\n",
        "    pad_token_id=tokenizer.eos_token_id\n",
        ")\n",
        "\n",
        "outputs = model.generate(**inputs, generation_config=generation_config)\n",
        "print(tokenizer.decode(outputs[0], skip_special_tokens=True))"
      ],
      "metadata": {
        "id": "JvdRbDIQSEVT"
      },
      "execution_count": null,
      "outputs": []
    }
  ]
}